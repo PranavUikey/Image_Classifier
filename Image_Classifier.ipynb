{
  "nbformat": 4,
  "nbformat_minor": 0,
  "metadata": {
    "colab": {
      "name": "Image Classifier.ipynb",
      "version": "0.3.2",
      "provenance": []
    },
    "kernelspec": {
      "name": "python3",
      "display_name": "Python 3"
    },
    "accelerator": "GPU"
  },
  "cells": [
    {
      "cell_type": "code",
      "metadata": {
        "id": "PHfO_HZP5V4B",
        "colab_type": "code",
        "outputId": "5d06d1ca-663b-4e78-b563-3392da0f7f8e",
        "colab": {
          "base_uri": "https://localhost:8080/",
          "height": 34
        }
      },
      "source": [
        "# Run this cell to mount your Google Drive.\n",
        "from google.colab import drive\n",
        "drive.mount('/content/drive')"
      ],
      "execution_count": 9,
      "outputs": [
        {
          "output_type": "stream",
          "text": [
            "Drive already mounted at /content/drive; to attempt to forcibly remount, call drive.mount(\"/content/drive\", force_remount=True).\n"
          ],
          "name": "stdout"
        }
      ]
    },
    {
      "cell_type": "code",
      "metadata": {
        "id": "yj_ec1pC5wz0",
        "colab_type": "code",
        "colab": {
          "base_uri": "https://localhost:8080/",
          "height": 182
        },
        "outputId": "3b572377-d5d0-4b25-c87e-ff8610ac6557"
      },
      "source": [
        "import os\n",
        "os.chdir(\"drive/My Drive\")\n"
      ],
      "execution_count": 10,
      "outputs": [
        {
          "output_type": "error",
          "ename": "FileNotFoundError",
          "evalue": "ignored",
          "traceback": [
            "\u001b[0;31m---------------------------------------------------------------------------\u001b[0m",
            "\u001b[0;31mFileNotFoundError\u001b[0m                         Traceback (most recent call last)",
            "\u001b[0;32m<ipython-input-10-c6c00d6faf67>\u001b[0m in \u001b[0;36m<module>\u001b[0;34m()\u001b[0m\n\u001b[1;32m      1\u001b[0m \u001b[0;32mimport\u001b[0m \u001b[0mos\u001b[0m\u001b[0;34m\u001b[0m\u001b[0;34m\u001b[0m\u001b[0m\n\u001b[0;32m----> 2\u001b[0;31m \u001b[0mos\u001b[0m\u001b[0;34m.\u001b[0m\u001b[0mchdir\u001b[0m\u001b[0;34m(\u001b[0m\u001b[0;34m\"drive/My Drive\"\u001b[0m\u001b[0;34m)\u001b[0m\u001b[0;34m\u001b[0m\u001b[0;34m\u001b[0m\u001b[0m\n\u001b[0m",
            "\u001b[0;31mFileNotFoundError\u001b[0m: [Errno 2] No such file or directory: 'drive/My Drive'"
          ]
        }
      ]
    },
    {
      "cell_type": "code",
      "metadata": {
        "id": "glPjDDI3Dz3w",
        "colab_type": "code",
        "outputId": "ec0adc5a-f226-457b-c5c7-e5ee4ded99c0",
        "colab": {
          "base_uri": "https://localhost:8080/",
          "height": 34
        }
      },
      "source": [
        "!ls"
      ],
      "execution_count": 11,
      "outputs": [
        {
          "output_type": "stream",
          "text": [
            " dataset  'dog vs cat.zip'\n"
          ],
          "name": "stdout"
        }
      ]
    },
    {
      "cell_type": "code",
      "metadata": {
        "id": "GojeVt2oEEwb",
        "colab_type": "code",
        "colab": {}
      },
      "source": [
        "# only run for first time \n",
        "#!mkdir 'image_classifier'"
      ],
      "execution_count": 0,
      "outputs": []
    },
    {
      "cell_type": "code",
      "metadata": {
        "id": "OjqDF0EhEKIN",
        "colab_type": "code",
        "colab": {}
      },
      "source": [
        "#!unzip dogs-cats-images.zip -d 'image_classifier'"
      ],
      "execution_count": 0,
      "outputs": []
    },
    {
      "cell_type": "code",
      "metadata": {
        "id": "1pEp9JbfHTcN",
        "colab_type": "code",
        "colab": {
          "base_uri": "https://localhost:8080/",
          "height": 165
        },
        "outputId": "24e1a277-8860-4a61-bdc3-e12efb4dc6fd"
      },
      "source": [
        "os.chdir('image_classifier/')\n"
      ],
      "execution_count": 14,
      "outputs": [
        {
          "output_type": "error",
          "ename": "FileNotFoundError",
          "evalue": "ignored",
          "traceback": [
            "\u001b[0;31m---------------------------------------------------------------------------\u001b[0m",
            "\u001b[0;31mFileNotFoundError\u001b[0m                         Traceback (most recent call last)",
            "\u001b[0;32m<ipython-input-14-f8e46b677ec6>\u001b[0m in \u001b[0;36m<module>\u001b[0;34m()\u001b[0m\n\u001b[0;32m----> 1\u001b[0;31m \u001b[0mos\u001b[0m\u001b[0;34m.\u001b[0m\u001b[0mchdir\u001b[0m\u001b[0;34m(\u001b[0m\u001b[0;34m'image_classifier/'\u001b[0m\u001b[0;34m)\u001b[0m\u001b[0;34m\u001b[0m\u001b[0;34m\u001b[0m\u001b[0m\n\u001b[0m",
            "\u001b[0;31mFileNotFoundError\u001b[0m: [Errno 2] No such file or directory: 'image_classifier/'"
          ]
        }
      ]
    },
    {
      "cell_type": "code",
      "metadata": {
        "id": "mbw7lVBwwaGg",
        "colab_type": "code",
        "colab": {}
      },
      "source": [
        "#!unzip dog\\ vs\\ cat.zip"
      ],
      "execution_count": 0,
      "outputs": []
    },
    {
      "cell_type": "code",
      "metadata": {
        "id": "xzVQD6zw3Hsu",
        "colab_type": "code",
        "colab": {}
      },
      "source": [
        "os.chdir('dataset')"
      ],
      "execution_count": 0,
      "outputs": []
    },
    {
      "cell_type": "code",
      "metadata": {
        "id": "Z2wWKYDBy8Db",
        "colab_type": "code",
        "colab": {
          "base_uri": "https://localhost:8080/",
          "height": 34
        },
        "outputId": "f4d699f2-8792-423f-96a2-6e46b753c828"
      },
      "source": [
        "import cv2\n",
        "import os\n",
        "import seaborn as sns\n",
        "import matplotlib.pyplot as plt\n",
        "import numpy as np\n",
        "from random import shuffle\n",
        "from tqdm import tqdm\n",
        "from IPython.display import SVG\n",
        "from keras.utils.vis_utils import model_to_dot\n",
        "from keras.utils import plot_model\n",
        "from tensorflow.python.keras.applications import ResNet50\n",
        "from tensorflow.python.keras.models import Sequential\n",
        "from tensorflow.python.keras.layers import Dense, Flatten, GlobalAveragePooling2D\n",
        "from sklearn.model_selection import train_test_split\n",
        "%matplotlib inline "
      ],
      "execution_count": 16,
      "outputs": [
        {
          "output_type": "stream",
          "text": [
            "Using TensorFlow backend.\n"
          ],
          "name": "stderr"
        }
      ]
    },
    {
      "cell_type": "code",
      "metadata": {
        "id": "YXCSv2aL3haR",
        "colab_type": "code",
        "colab": {}
      },
      "source": [
        "def label_pet_image_one_hot_encoder(img):\n",
        "    pet = img.split('.')[0]\n",
        "    if pet == 'cat': return [1,0]\n",
        "    elif pet == 'dog': return [0,1]\n",
        "    elif pet =='Unknown': return [0,0]"
      ],
      "execution_count": 0,
      "outputs": []
    },
    {
      "cell_type": "code",
      "metadata": {
        "id": "EW3kbbb43lQe",
        "colab_type": "code",
        "colab": {}
      },
      "source": [
        "def load_images_from_folder(folder,isTrain = True):\n",
        "#     images = []\n",
        "#     labels = []\n",
        "    data_df = []\n",
        "    for filename in tqdm(os.listdir(folder)):\n",
        "        img = cv2.imread(os.path.join(folder,filename))\n",
        "        if img is not None:\n",
        "            if isTrain:\n",
        "                label = label_pet_image_one_hot_encoder(filename.split('.')[0])\n",
        "            else:\n",
        "                label =label_pet_image_one_hot_encoder('Unknown')\n",
        "                \n",
        "            i = cv2.resize(img,(224,224))\n",
        "            data_df.append([np.array(i),np.array(label)])\n",
        "    shuffle(data_df)    \n",
        "          \n",
        "    return data_df"
      ],
      "execution_count": 0,
      "outputs": []
    },
    {
      "cell_type": "code",
      "metadata": {
        "id": "UtuxZLk73TbP",
        "colab_type": "code",
        "outputId": "7e00baea-ef1f-4bdd-e3fe-2325b1c9a731",
        "colab": {
          "base_uri": "https://localhost:8080/",
          "height": 34
        }
      },
      "source": [
        "dogs_train = load_images_from_folder('training_set/dogs')\n"
      ],
      "execution_count": 0,
      "outputs": [
        {
          "output_type": "stream",
          "text": [
            " 14%|█▍        | 566/4001 [04:14<23:36,  2.42it/s]"
          ],
          "name": "stderr"
        }
      ]
    },
    {
      "cell_type": "code",
      "metadata": {
        "id": "i9K6rq-D3gnJ",
        "colab_type": "code",
        "colab": {}
      },
      "source": [
        "cats_train = load_images_from_folder('training_set/cats')"
      ],
      "execution_count": 0,
      "outputs": []
    },
    {
      "cell_type": "code",
      "metadata": {
        "id": "9RbnXt6G3kma",
        "colab_type": "code",
        "colab": {}
      },
      "source": [
        "dogs_test = load_images_from_folder('test_set/dogs',False)\n",
        "cats_test = load_images_from_folder('test_set/cats',False)"
      ],
      "execution_count": 0,
      "outputs": []
    },
    {
      "cell_type": "code",
      "metadata": {
        "id": "yYD3SZ8iI4pY",
        "colab_type": "code",
        "colab": {}
      },
      "source": [
        "dogs_train[0][0].shape,cats_train[0][0].shape,\\\n",
        "dogs_test[0][0].shape,cats_test[0][0].shape"
      ],
      "execution_count": 0,
      "outputs": []
    },
    {
      "cell_type": "code",
      "metadata": {
        "id": "GnsNYm8hI-X-",
        "colab_type": "code",
        "colab": {}
      },
      "source": [
        "len(dogs_train),len(cats_train),len(dogs_test),len(cats_test)"
      ],
      "execution_count": 0,
      "outputs": []
    },
    {
      "cell_type": "code",
      "metadata": {
        "id": "KuZRRyqPJA2V",
        "colab_type": "code",
        "colab": {}
      },
      "source": [
        "def show_images(data, isTest=False):\n",
        "    f, ax = plt.subplots(5,5, figsize=(15,15))\n",
        "    for i,data in enumerate(data[:25]):\n",
        "        img_num = data[1]\n",
        "        img_data = data[0]\n",
        "        label = np.argmax(img_num)\n",
        "        if isTest ==True:\n",
        "            str_label=\"None\"\n",
        "\n",
        "\n",
        "        else:\n",
        "\n",
        "            if (label  == 1): \n",
        "                str_label='Dog'\n",
        "\n",
        "\n",
        "\n",
        "            elif (label == 0): \n",
        "                str_label='Cat'\n",
        "        ax[i//5, i%5].imshow(img_data,)\n",
        "        ax[i//5, i%5].axis('off')\n",
        "        ax[i//5, i%5].set_title(\"Label: {}\".format(str_label))\n",
        "\n",
        "        \n",
        "    plt.show()"
      ],
      "execution_count": 0,
      "outputs": []
    },
    {
      "cell_type": "code",
      "metadata": {
        "id": "MLS9S4raJO_u",
        "colab_type": "code",
        "colab": {}
      },
      "source": [
        "show_images(cats_train)"
      ],
      "execution_count": 0,
      "outputs": []
    },
    {
      "cell_type": "code",
      "metadata": {
        "id": "qjDtdjfeJSPE",
        "colab_type": "code",
        "colab": {}
      },
      "source": [
        "show_images(dogs_train)"
      ],
      "execution_count": 0,
      "outputs": []
    },
    {
      "cell_type": "code",
      "metadata": {
        "id": "0fdmdqjgJcNj",
        "colab_type": "code",
        "colab": {}
      },
      "source": [
        "show_images(dogs_test,True)"
      ],
      "execution_count": 0,
      "outputs": []
    },
    {
      "cell_type": "code",
      "metadata": {
        "id": "ypsdhWzRJiVt",
        "colab_type": "code",
        "colab": {}
      },
      "source": [
        "show_images(cats_test,True)"
      ],
      "execution_count": 0,
      "outputs": []
    },
    {
      "cell_type": "code",
      "metadata": {
        "id": "nxtQb9LXJk9O",
        "colab_type": "code",
        "colab": {}
      },
      "source": [
        "X = np.array([i[0] for i in dogs_train+cats_train]).reshape(-1,224,224,3)\n",
        "y = np.array([i[1] for i in dogs_train+cats_train])"
      ],
      "execution_count": 0,
      "outputs": []
    },
    {
      "cell_type": "code",
      "metadata": {
        "id": "oYN7NOmKJose",
        "colab_type": "code",
        "colab": {}
      },
      "source": [
        "model = Sequential()\n",
        "model.add(ResNet50(include_top=False, pooling='max', weights='resnet50_weights_tf_dim_ordering_tf_kernels_notop.h5'))\n",
        "model.add(Dense(2, activation='softmax'))\n",
        "# ResNet-50 model is already trained, should not be trained\n",
        "model.layers[0].trainable = True"
      ],
      "execution_count": 0,
      "outputs": []
    },
    {
      "cell_type": "code",
      "metadata": {
        "id": "nGVEUsyeK8Pp",
        "colab_type": "code",
        "colab": {}
      },
      "source": [
        "model.compile(optimizer='sgd', loss='categorical_crossentropy', metrics=['accuracy'])"
      ],
      "execution_count": 0,
      "outputs": []
    },
    {
      "cell_type": "code",
      "metadata": {
        "id": "cZozHYaqLIt_",
        "colab_type": "code",
        "colab": {}
      },
      "source": [
        "model.summary()"
      ],
      "execution_count": 0,
      "outputs": []
    },
    {
      "cell_type": "code",
      "metadata": {
        "id": "gybl3S4ZLJXt",
        "colab_type": "code",
        "colab": {}
      },
      "source": [
        "X_train, X_val, y_train, y_val = train_test_split(X, y, test_size=0.5, random_state=33)"
      ],
      "execution_count": 0,
      "outputs": []
    },
    {
      "cell_type": "code",
      "metadata": {
        "id": "MYDFilieLaNx",
        "colab_type": "code",
        "colab": {}
      },
      "source": [
        "train_model = model.fit(X_train, y_train,batch_size=16,epochs=10,verbose=1,validation_data=(X_val,y_val))"
      ],
      "execution_count": 0,
      "outputs": []
    },
    {
      "cell_type": "code",
      "metadata": {
        "id": "H8vl08j6LoMg",
        "colab_type": "code",
        "colab": {}
      },
      "source": [
        "def plot_accuracy_and_loss(train_model):\n",
        "    hist = train_model.history\n",
        "    acc = hist['acc']\n",
        "    val_acc = hist['val_acc']\n",
        "    loss = hist['loss']\n",
        "    val_loss = hist['val_loss']\n",
        "    epochs = range(len(acc))\n",
        "    f, ax = plt.subplots(1,2, figsize=(14,6))\n",
        "    ax[0].plot(epochs, acc, 'g', label='Training accuracy')\n",
        "    ax[0].plot(epochs, val_acc, 'r', label='Validation accuracy')\n",
        "    ax[0].set_title('Training and validation accuracy')\n",
        "    ax[0].legend()\n",
        "    ax[1].plot(epochs, loss, 'g', label='Training loss')\n",
        "    ax[1].plot(epochs, val_loss, 'r', label='Validation loss')\n",
        "    ax[1].set_title('Training and validation loss')\n",
        "    ax[1].legend()\n",
        "    plt.show()\n",
        "plot_accuracy_and_loss(train_model)"
      ],
      "execution_count": 0,
      "outputs": []
    },
    {
      "cell_type": "code",
      "metadata": {
        "id": "YLMKaGE_SJKq",
        "colab_type": "code",
        "colab": {}
      },
      "source": [
        ""
      ],
      "execution_count": 0,
      "outputs": []
    }
  ]
}